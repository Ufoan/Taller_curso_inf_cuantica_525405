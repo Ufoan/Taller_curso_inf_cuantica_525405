{
  "nbformat": 4,
  "nbformat_minor": 0,
  "metadata": {
    "colab": {
      "provenance": [],
      "authorship_tag": "ABX9TyNulnypWJj6BFdA5yUeYcgk",
      "include_colab_link": true
    },
    "kernelspec": {
      "name": "python3",
      "display_name": "Python 3"
    },
    "language_info": {
      "name": "python"
    }
  },
  "cells": [
    {
      "cell_type": "markdown",
      "metadata": {
        "id": "view-in-github",
        "colab_type": "text"
      },
      "source": [
        "<a href=\"https://colab.research.google.com/github/Ufoan/Taller_curso_inf_cuantica_525405/blob/main/Lab_practico_intro_qiskit_clase_1.ipynb\" target=\"_parent\"><img src=\"https://colab.research.google.com/assets/colab-badge.svg\" alt=\"Open In Colab\"/></a>"
      ]
    },
    {
      "cell_type": "markdown",
      "source": [
        "# Teoría de la Información Cuántica: Comunicación y Computación (525405) 2025-1 <br>\n",
        "#**Taller Introducción qiskit**: Clase 1."
      ],
      "metadata": {
        "id": "qGAS7zfqnq0j"
      }
    },
    {
      "cell_type": "markdown",
      "source": [
        "# Instalar e importar paquetes necesarios"
      ],
      "metadata": {
        "id": "vhZAoNJUsgMw"
      }
    },
    {
      "cell_type": "code",
      "execution_count": 14,
      "metadata": {
        "id": "kbIHSaD_mBop",
        "colab": {
          "base_uri": "https://localhost:8080/"
        },
        "outputId": "ecb661d3-855d-4dca-91b4-3b544d4a6146"
      },
      "outputs": [
        {
          "output_type": "stream",
          "name": "stdout",
          "text": [
            "Requirement already satisfied: numpy in /usr/local/lib/python3.11/dist-packages (2.0.2)\n",
            "Requirement already satisfied: matplotlib in /usr/local/lib/python3.11/dist-packages (3.10.0)\n",
            "Requirement already satisfied: qiskit in /usr/local/lib/python3.11/dist-packages (2.0.2)\n",
            "Requirement already satisfied: qiskit_aer in /usr/local/lib/python3.11/dist-packages (0.17.1)\n",
            "Requirement already satisfied: qiskit_experiments in /usr/local/lib/python3.11/dist-packages (0.10.0)\n",
            "Requirement already satisfied: pylatexenc in /usr/local/lib/python3.11/dist-packages (2.10)\n",
            "Requirement already satisfied: contourpy>=1.0.1 in /usr/local/lib/python3.11/dist-packages (from matplotlib) (1.3.2)\n",
            "Requirement already satisfied: cycler>=0.10 in /usr/local/lib/python3.11/dist-packages (from matplotlib) (0.12.1)\n",
            "Requirement already satisfied: fonttools>=4.22.0 in /usr/local/lib/python3.11/dist-packages (from matplotlib) (4.58.1)\n",
            "Requirement already satisfied: kiwisolver>=1.3.1 in /usr/local/lib/python3.11/dist-packages (from matplotlib) (1.4.8)\n",
            "Requirement already satisfied: packaging>=20.0 in /usr/local/lib/python3.11/dist-packages (from matplotlib) (24.2)\n",
            "Requirement already satisfied: pillow>=8 in /usr/local/lib/python3.11/dist-packages (from matplotlib) (11.2.1)\n",
            "Requirement already satisfied: pyparsing>=2.3.1 in /usr/local/lib/python3.11/dist-packages (from matplotlib) (3.2.3)\n",
            "Requirement already satisfied: python-dateutil>=2.7 in /usr/local/lib/python3.11/dist-packages (from matplotlib) (2.9.0.post0)\n",
            "Requirement already satisfied: rustworkx>=0.15.0 in /usr/local/lib/python3.11/dist-packages (from qiskit) (0.16.0)\n",
            "Requirement already satisfied: scipy>=1.5 in /usr/local/lib/python3.11/dist-packages (from qiskit) (1.15.3)\n",
            "Requirement already satisfied: sympy>=1.3 in /usr/local/lib/python3.11/dist-packages (from qiskit) (1.13.1)\n",
            "Requirement already satisfied: dill>=0.3 in /usr/local/lib/python3.11/dist-packages (from qiskit) (0.3.7)\n",
            "Requirement already satisfied: stevedore>=3.0.0 in /usr/local/lib/python3.11/dist-packages (from qiskit) (5.4.1)\n",
            "Requirement already satisfied: typing-extensions in /usr/local/lib/python3.11/dist-packages (from qiskit) (4.14.0)\n",
            "Requirement already satisfied: symengine<0.14,>=0.11 in /usr/local/lib/python3.11/dist-packages (from qiskit) (0.13.0)\n",
            "Requirement already satisfied: psutil>=5 in /usr/local/lib/python3.11/dist-packages (from qiskit_aer) (5.9.5)\n",
            "Requirement already satisfied: qiskit-ibm-experiment>=0.4.6 in /usr/local/lib/python3.11/dist-packages (from qiskit_experiments) (0.4.8)\n",
            "Requirement already satisfied: qiskit_ibm_runtime>=0.29.0 in /usr/local/lib/python3.11/dist-packages (from qiskit_experiments) (0.40.1)\n",
            "Requirement already satisfied: uncertainties in /usr/local/lib/python3.11/dist-packages (from qiskit_experiments) (3.2.3)\n",
            "Requirement already satisfied: lmfit in /usr/local/lib/python3.11/dist-packages (from qiskit_experiments) (1.3.3)\n",
            "Requirement already satisfied: pandas>=1.1.5 in /usr/local/lib/python3.11/dist-packages (from qiskit_experiments) (2.2.2)\n",
            "Requirement already satisfied: pytz>=2020.1 in /usr/local/lib/python3.11/dist-packages (from pandas>=1.1.5->qiskit_experiments) (2025.2)\n",
            "Requirement already satisfied: tzdata>=2022.7 in /usr/local/lib/python3.11/dist-packages (from pandas>=1.1.5->qiskit_experiments) (2025.2)\n",
            "Requirement already satisfied: six>=1.5 in /usr/local/lib/python3.11/dist-packages (from python-dateutil>=2.7->matplotlib) (1.17.0)\n",
            "Requirement already satisfied: requests>=2.19 in /usr/local/lib/python3.11/dist-packages (from qiskit-ibm-experiment>=0.4.6->qiskit_experiments) (2.32.3)\n",
            "Requirement already satisfied: requests-ntlm>=1.1.0 in /usr/local/lib/python3.11/dist-packages (from qiskit-ibm-experiment>=0.4.6->qiskit_experiments) (1.3.0)\n",
            "Requirement already satisfied: urllib3>=1.21.1 in /usr/local/lib/python3.11/dist-packages (from qiskit-ibm-experiment>=0.4.6->qiskit_experiments) (2.4.0)\n",
            "Requirement already satisfied: websocket-client>=1.0.1 in /usr/local/lib/python3.11/dist-packages (from qiskit-ibm-experiment>=0.4.6->qiskit_experiments) (1.8.0)\n",
            "Requirement already satisfied: pyyaml>=6.0.0 in /usr/local/lib/python3.11/dist-packages (from qiskit-ibm-experiment>=0.4.6->qiskit_experiments) (6.0.2)\n",
            "Requirement already satisfied: ibm-platform-services>=0.22.6 in /usr/local/lib/python3.11/dist-packages (from qiskit_ibm_runtime>=0.29.0->qiskit_experiments) (0.66.1)\n",
            "Requirement already satisfied: pydantic>=2.5.0 in /usr/local/lib/python3.11/dist-packages (from qiskit_ibm_runtime>=0.29.0->qiskit_experiments) (2.11.5)\n",
            "Requirement already satisfied: pbr>=2.0.0 in /usr/local/lib/python3.11/dist-packages (from stevedore>=3.0.0->qiskit) (6.1.1)\n",
            "Requirement already satisfied: mpmath<1.4,>=1.1.0 in /usr/local/lib/python3.11/dist-packages (from sympy>=1.3->qiskit) (1.3.0)\n",
            "Requirement already satisfied: asteval>=1.0 in /usr/local/lib/python3.11/dist-packages (from lmfit->qiskit_experiments) (1.0.6)\n",
            "Requirement already satisfied: ibm_cloud_sdk_core<4.0.0,>=3.24.1 in /usr/local/lib/python3.11/dist-packages (from ibm-platform-services>=0.22.6->qiskit_ibm_runtime>=0.29.0->qiskit_experiments) (3.24.1)\n",
            "Requirement already satisfied: setuptools in /usr/local/lib/python3.11/dist-packages (from pbr>=2.0.0->stevedore>=3.0.0->qiskit) (75.2.0)\n",
            "Requirement already satisfied: annotated-types>=0.6.0 in /usr/local/lib/python3.11/dist-packages (from pydantic>=2.5.0->qiskit_ibm_runtime>=0.29.0->qiskit_experiments) (0.7.0)\n",
            "Requirement already satisfied: pydantic-core==2.33.2 in /usr/local/lib/python3.11/dist-packages (from pydantic>=2.5.0->qiskit_ibm_runtime>=0.29.0->qiskit_experiments) (2.33.2)\n",
            "Requirement already satisfied: typing-inspection>=0.4.0 in /usr/local/lib/python3.11/dist-packages (from pydantic>=2.5.0->qiskit_ibm_runtime>=0.29.0->qiskit_experiments) (0.4.1)\n",
            "Requirement already satisfied: charset-normalizer<4,>=2 in /usr/local/lib/python3.11/dist-packages (from requests>=2.19->qiskit-ibm-experiment>=0.4.6->qiskit_experiments) (3.4.2)\n",
            "Requirement already satisfied: idna<4,>=2.5 in /usr/local/lib/python3.11/dist-packages (from requests>=2.19->qiskit-ibm-experiment>=0.4.6->qiskit_experiments) (3.10)\n",
            "Requirement already satisfied: certifi>=2017.4.17 in /usr/local/lib/python3.11/dist-packages (from requests>=2.19->qiskit-ibm-experiment>=0.4.6->qiskit_experiments) (2025.4.26)\n",
            "Requirement already satisfied: cryptography>=1.3 in /usr/local/lib/python3.11/dist-packages (from requests-ntlm>=1.1.0->qiskit-ibm-experiment>=0.4.6->qiskit_experiments) (43.0.3)\n",
            "Requirement already satisfied: pyspnego>=0.4.0 in /usr/local/lib/python3.11/dist-packages (from requests-ntlm>=1.1.0->qiskit-ibm-experiment>=0.4.6->qiskit_experiments) (0.11.2)\n",
            "Requirement already satisfied: cffi>=1.12 in /usr/local/lib/python3.11/dist-packages (from cryptography>=1.3->requests-ntlm>=1.1.0->qiskit-ibm-experiment>=0.4.6->qiskit_experiments) (1.17.1)\n",
            "Requirement already satisfied: PyJWT<3.0.0,>=2.8.0 in /usr/local/lib/python3.11/dist-packages (from ibm_cloud_sdk_core<4.0.0,>=3.24.1->ibm-platform-services>=0.22.6->qiskit_ibm_runtime>=0.29.0->qiskit_experiments) (2.10.1)\n",
            "Requirement already satisfied: pycparser in /usr/local/lib/python3.11/dist-packages (from cffi>=1.12->cryptography>=1.3->requests-ntlm>=1.1.0->qiskit-ibm-experiment>=0.4.6->qiskit_experiments) (2.22)\n"
          ]
        }
      ],
      "source": [
        "!pip install numpy matplotlib qiskit qiskit_aer qiskit_experiments pylatexenc"
      ]
    },
    {
      "cell_type": "code",
      "source": [
        "import numpy as np\n",
        "import matplotlib.pyplot as plt\n",
        "from qiskit import QuantumCircuit\n",
        "from qiskit.visualization import plot_histogram\n",
        "from qiskit.quantum_info import Statevector, Operator\n",
        "from qiskit_aer.primitives import Sampler"
      ],
      "metadata": {
        "id": "UTLrI4dIoRv8"
      },
      "execution_count": 15,
      "outputs": []
    },
    {
      "cell_type": "markdown",
      "source": [
        "# Parte I: ¿Qué es Qiskit?"
      ],
      "metadata": {
        "id": "5VufNlscPam4"
      }
    },
    {
      "cell_type": "markdown",
      "source": [
        "**Qiskit** es un framework de código abierto desarrollado por IBM para el diseño, simulación y ejecución de algoritmos cuánticos. Está escrito en Python y permite trabajar con:\n",
        "\n",
        "\n",
        "*   Circuitos cuánticos.\n",
        "*   Simulaciones locales.\n",
        "* Ejecuciones en computadores cuánticos reales a través de la nube ([IBM quantum platform](https://quantum.ibm.com)).\n",
        "\n",
        "\n",
        "\n",
        "\n",
        "\n",
        "\n"
      ],
      "metadata": {
        "id": "mHVERvMFk06D"
      }
    },
    {
      "cell_type": "markdown",
      "source": [
        "## ¿Por qué usar Qiskit?"
      ],
      "metadata": {
        "id": "Zc7n9e0hNm1I"
      }
    },
    {
      "cell_type": "markdown",
      "source": [
        "* Es uno de los frameworks mas completos y más utilizado.\n",
        "* Permite simular y visualizar circuitos de manera intuitiva. (En IBM quantum platform, existe el [**composer**](https://quantum.ibm.com/composer) que permite crear circuitos arrastrando puertas, literalmente).\n",
        "* Tiene acceso directo a hardware cuántico real.\n",
        "* Es modular: Puedes trabajar sólo con las partes que necesitas."
      ],
      "metadata": {
        "id": "2WYWYyoqN4lo"
      }
    },
    {
      "cell_type": "markdown",
      "source": [
        "## ¿Cuál es la arquitectura de Qiskit?\n"
      ],
      "metadata": {
        "id": "69vl47IENqPE"
      }
    },
    {
      "cell_type": "markdown",
      "source": [
        "Qiskit está dividido en varios módulos principales, entre ellos se encuentran:\n",
        "* ``qiskit-terra``: que corresponde al *core*. Define el circuito cuántico, las puertas, los registros cuánticos y clásicos, además de permitir construir, transformar y optimizar circuitos.\n",
        "* ``qiskit-aer``: Que corresponde a la parte de *simulación*. Permite simular circuitos de manera local, es decir, sin necesidad de hardware cuántico real.\n",
        "* ``qiskit-ibmq-provider``: Permite conectarse a **IBM Cloud** (ex IBM quantum platform), lo que permite ejecutar circuitos en computadores cuánticas reales. Con una cuenta gratuita se tiene un aproximado de 10 minutos de simulaciones al mes.\n",
        "\n",
        "**Ejemplo**: En el siguiente bloque de código se crea un circuito cuántico que crea un estado en superposición (``qiskit-terra``). Luego se simula con ``sampler`` (``qiskit-aer``) y finalmente se visualizan los resultados en el histograma:"
      ],
      "metadata": {
        "id": "Sy9WQa-gLLqr"
      }
    },
    {
      "cell_type": "code",
      "source": [
        "#Importamos los paquetes\n",
        "from qiskit import QuantumCircuit #Lo necesitamos para crea el circuito cuántico vacío\n",
        "from qiskit_aer.primitives import Sampler #El simulador\n",
        "from qiskit.visualization import plot_histogram #Para la visualización\n",
        "\n",
        "qc = QuantumCircuit(1, 1) #Crea el circuito cuántico vacío\n",
        "qc.h(0) #Aplicamos la puerta de hadamard al qubit 0\n",
        "qc.measure(0, 0) #Meidmos en el qubit 0 y guardamos el resultado en el bit clásico 0 (c)\n",
        "qc.draw('mpl') #Dibuja el circuito"
      ],
      "metadata": {
        "colab": {
          "base_uri": "https://localhost:8080/",
          "height": 191
        },
        "id": "w4vIGRj8Lzqr",
        "outputId": "a318c320-5179-4806-a21f-87e4cee44607"
      },
      "execution_count": 22,
      "outputs": [
        {
          "output_type": "execute_result",
          "data": {
            "text/plain": [
              "<Figure size 269.064x200.667 with 1 Axes>"
            ],
            "image/png": "[encoded data removed]"
          },
          "metadata": {},
          "execution_count": 22
        }
      ]
    },
    {
      "cell_type": "code",
      "source": [
        "sampler = Sampler() #llamamos al simulador\n",
        "job = sampler.run(qc, shots=1024) #La cantidad de shots es la cantidad que se repite el experimento\n",
        "result = job.result() #Se obtienen los resultados del experimento\n",
        "counts = result.quasi_dists #Nos entrega la \"quasi\" distribución de probabilidad\n",
        "\n",
        "plot_histogram(counts)"
      ],
      "metadata": {
        "colab": {
          "base_uri": "https://localhost:8080/",
          "height": 487
        },
        "id": "BgU7usmYMCmT",
        "outputId": "0a15ae70-2ba7-440d-a03a-ee456bb3f639"
      },
      "execution_count": 23,
      "outputs": [
        {
          "output_type": "execute_result",
          "data": {
            "text/plain": [
              "<Figure size 640x480 with 1 Axes>"
            ],
            "image/png": "[encoded data removed]"
          },
          "metadata": {},
          "execution_count": 23
        }
      ]
    },
    {
      "cell_type": "markdown",
      "source": [
        "# Parte 2: Primeros Pasos"
      ],
      "metadata": {
        "id": "qpLNsVljj30A"
      }
    },
    {
      "cell_type": "markdown",
      "source": [
        "## ¿Qué se necesita para crear un circuito cuántico?"
      ],
      "metadata": {
        "id": "bdm1KtJANTfe"
      }
    },
    {
      "cell_type": "markdown",
      "source": [
        "Para crear un circuito cuántico necesitamos:\n",
        "\n",
        "\n",
        "1.   **Qubits**: Unidades de información cuántica.\n",
        "2.   **Bits clásicos**: Donde almacenaremos los resultados de las mediciones.\n",
        "3. **Un circuito cuántico**: La estructura que conecta todo.\n",
        "\n",
        "Creemos nuestro primer circuito cuántico:"
      ],
      "metadata": {
        "id": "LBxWH61TODha"
      }
    },
    {
      "cell_type": "markdown",
      "source": [
        "### 1. Importamos el módulo ``QuantumCircuit``"
      ],
      "metadata": {
        "id": "bizd75frPjvM"
      }
    },
    {
      "cell_type": "code",
      "source": [
        "from qiskit import QuantumCircuit"
      ],
      "metadata": {
        "id": "QrTShAmPQVcK"
      },
      "execution_count": 24,
      "outputs": []
    },
    {
      "cell_type": "markdown",
      "source": [
        "### 2. Creamos el circuito"
      ],
      "metadata": {
        "id": "CZ64M3aCQYdH"
      }
    },
    {
      "cell_type": "markdown",
      "source": [
        "Hay más de una manera de crear el circuito cuántico, nos enfocaremos en la manera más sencilla.\n",
        "\n",
        "Para crear un circuito cuántico llamado $\\text{qc}$ con $n$ qubits y $m$ bits clásicos, escribiremos ``qc = QuantumCircuit(n,m)``. Notemos que la cantidad de qubits y bits clásicos a utilizar dependerán de lo que se quiera simular o trabajar."
      ],
      "metadata": {
        "id": "C7v5LTBaQcOo"
      }
    },
    {
      "cell_type": "markdown",
      "source": [
        "**Ejercicio 1**: Cree un circuito cuántico llamado **qc** con un qubit y un bit clásico. Puede visualizar el circuito utilizando el comando ``qc.draw('mpl')``."
      ],
      "metadata": {
        "id": "A0A17rTDRNb0"
      }
    },
    {
      "cell_type": "code",
      "source": [
        "qc = QuantumCircuit(1,1)\n",
        "qc.draw('mpl')"
      ],
      "metadata": {
        "colab": {
          "base_uri": "https://localhost:8080/",
          "height": 191
        },
        "id": "59TGfpntRj_Q",
        "outputId": "28248f8b-473c-41be-a30a-54a16dbd6d2b"
      },
      "execution_count": 26,
      "outputs": [
        {
          "output_type": "execute_result",
          "data": {
            "text/plain": [
              "<Figure size 143.647x200.667 with 1 Axes>"
            ],
            "image/png": "[encoded data removed]"
          },
          "metadata": {},
          "execution_count": 26
        }
      ]
    },
    {
      "cell_type": "markdown",
      "source": [
        "### 3. Agregamos compuertas"
      ],
      "metadata": {
        "id": "9KmqQ2T5SVim"
      }
    },
    {
      "cell_type": "markdown",
      "source": [
        "A pesar que en qiskit existen puertas que se pueden aplicar a tres o más qubits, nos centraremos en las que son de 1 o 2.\n",
        "\n",
        "* **Puertas de 1 qubit**: Para agregar estas puertas se escribe ``qc.nombrepuerta(n)`` donde $n$ es el qubit al cuál le estamos aplicando la puerta.\n",
        "* **Puertas de 2 qubits** : En caso de los control-puerta, se escribe ``qc.controlpuerta(c,t)`` donde **c** representa al qubit de control y **t** al target.\n",
        "\n",
        "Las puertas más utilizadas son:\n",
        "\n",
        "### Puertas de 1 qubit\n",
        "\n",
        "| Nombre     | Símbolo          | Matriz                                                 | En Qiskit                          | Descripción                                |\n",
        "|------------|------------------|--------------------------------------------------------|------------------------------------|--------------------------------------------|\n",
        "| Pauli-X    | `X`              | $ \\begin{bmatrix} 0 & 1 \\\\ 1 & 0 \\end{bmatrix} $        | `qc.x(0)`                          | Puerta NOT cuántica                        |\n",
        "| Pauli-Y    | `Y`              | $ \\begin{bmatrix} 0 & -i \\\\ i & 0 \\end{bmatrix} $       | `qc.y(0)`                          | Rotación con fase compleja                 |\n",
        "| Pauli-Z    | `Z`              | $ \\begin{bmatrix} 1 & 0 \\\\ 0 & -1 \\end{bmatrix} $       | `qc.z(0)`                          | Invierte fase de $|1\\rangle$               |\n",
        "| Hadamard   | `H`              | $\\frac{1}{\\sqrt{2}}\\begin{bmatrix} 1 & 1 \\\\ 1 & -1 \\end{bmatrix}$ | `qc.h(0)`                | Superposición                              |\n",
        "| Phase      | `S`              | $ \\begin{bmatrix} 1 & 0 \\\\ 0 & i \\end{bmatrix} $        | `qc.s(0)`                          | Fase de $ \\pi/2 $                          |\n",
        "| T (pi/8)   | `T`              | $ \\begin{bmatrix} 1 & 0 \\\\ 0 & e^{i\\pi/4} \\end{bmatrix} $ | `qc.t(0)`                      | Fase de $ \\pi/4 $                          |\n",
        "| $R_x$      | `rx(θ)`          | $ \\begin{bmatrix} \\cos(\\theta/2) & -i\\sin(\\theta/2) \\\\ -i\\sin(\\theta/2) & \\cos(\\theta/2) \\end{bmatrix} $ | `qc.rx(theta, 0)` | Rotación en eje X |\n",
        "| $R_y$      | `ry(θ)`          | $ \\begin{bmatrix} \\cos(\\theta/2) & -\\sin(\\theta/2) \\\\ \\sin(\\theta/2) & \\cos(\\theta/2) \\end{bmatrix} $   | `qc.ry(theta, 0)` | Rotación en eje Y |\n",
        "| $R_z$      | `rz(θ)`          | $ \\begin{bmatrix} e^{-i\\theta/2} & 0 \\\\ 0 & e^{i\\theta/2} \\end{bmatrix} $ | `qc.rz(theta, 0)`     | Rotación en eje Z (fase)                   |\n",
        "\n",
        "Notemos que **TODAS ESTÁN APLICADAS AL QUBIT 0**. Los índices en qiskit comienzan del cero."
      ],
      "metadata": {
        "id": "7YoaHF8HSZX9"
      }
    },
    {
      "cell_type": "markdown",
      "source": [
        "# Parte 3: Simulación y visualización"
      ],
      "metadata": {
        "id": "lHq4krO1kAyM"
      }
    },
    {
      "cell_type": "markdown",
      "source": [
        "# Parte 4: Creando un estado de Bell"
      ],
      "metadata": {
        "id": "aYwUvgiSkEab"
      }
    },
    {
      "cell_type": "markdown",
      "source": [
        "# Referencias"
      ],
      "metadata": {
        "id": "A6aehrq2tv4_"
      }
    },
    {
      "cell_type": "markdown",
      "source": [
        "\n",
        "\n",
        "1.   Taller 1: Introducción qiskit, ECC 2025 MIRO. Constanza Vargas, Barbara Candia, Luciano Pereira. <Agregar link maybe>\n",
        "2.  Qiskit 101\n",
        "\n"
      ],
      "metadata": {
        "id": "1b1zjkv1uGRC"
      }
    },
    {
      "cell_type": "markdown",
      "source": [
        "# Contacto"
      ],
      "metadata": {
        "id": "j854KO8CgvFN"
      }
    },
    {
      "cell_type": "markdown",
      "source": [
        "María Paz Barría <br>\n",
        "Estudiante Doctorado en Ciencias Físicas <br>\n",
        "Universidad de Concepción<br>\n",
        "marbarria@udec.cl"
      ],
      "metadata": {
        "id": "W1J5uLMgjSeh"
      }
    }
  ]
}