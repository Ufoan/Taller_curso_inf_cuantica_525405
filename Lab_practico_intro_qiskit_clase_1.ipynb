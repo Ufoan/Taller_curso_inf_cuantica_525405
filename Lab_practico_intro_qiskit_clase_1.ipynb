{
  "nbformat": 4,
  "nbformat_minor": 0,
  "metadata": {
    "colab": {
      "provenance": [],
      "authorship_tag": "ABX9TyOtn0xrJ30fL22G/JbeGXEY",
      "include_colab_link": true
    },
    "kernelspec": {
      "name": "python3",
      "display_name": "Python 3"
    },
    "language_info": {
      "name": "python"
    }
  },
  "cells": [
    {
      "cell_type": "markdown",
      "metadata": {
        "id": "view-in-github",
        "colab_type": "text"
      },
      "source": [
        "<a href=\"https://colab.research.google.com/github/Ufoan/Taller_curso_inf_cuantica_525405/blob/main/Lab_practico_intro_qiskit_clase_1.ipynb\" target=\"_parent\"><img src=\"https://colab.research.google.com/assets/colab-badge.svg\" alt=\"Open In Colab\"/></a>"
      ]
    },
    {
      "cell_type": "markdown",
      "source": [
        "# Teoría de la Información Cuántica: Comunicación y Computación (525405) 2025-1 <br>\n",
        "#**Taller Introducción qiskit**: Clase 1."
      ],
      "metadata": {
        "id": "qGAS7zfqnq0j"
      }
    },
    {
      "cell_type": "markdown",
      "source": [
        "# Instalar e importar paquetes necesarios"
      ],
      "metadata": {
        "id": "vhZAoNJUsgMw"
      }
    },
    {
      "cell_type": "code",
      "execution_count": null,
      "metadata": {
        "id": "kbIHSaD_mBop",
        "collapsed": true
      },
      "outputs": [],
      "source": [
        "!pip install numpy matplotlib qiskit qiskit_aer qiskit_experiments pylatexenc"
      ]
    },
    {
      "cell_type": "code",
      "source": [
        "import numpy as np\n",
        "import matplotlib.pyplot as plt\n",
        "from qiskit import QuantumCircuit\n",
        "from qiskit.visualization import plot_histogram"
      ],
      "metadata": {
        "id": "UTLrI4dIoRv8"
      },
      "execution_count": null,
      "outputs": []
    },
    {
      "cell_type": "markdown",
      "source": [
        "# Parte I: ¿Qué es Qiskit?"
      ],
      "metadata": {
        "id": "5VufNlscPam4"
      }
    },
    {
      "cell_type": "markdown",
      "source": [
        "**Qiskit** es un framework de código abierto desarrollado por IBM para el diseño, simulación y ejecución de algoritmos cuánticos. Está escrito en Python y permite trabajar con:\n",
        "\n",
        "\n",
        "*   Circuitos cuánticos.\n",
        "*   Simulaciones locales.\n",
        "* Ejecuciones en computadores cuánticos reales a través de la nube ([IBM quantum platform](https://quantum.ibm.com)).\n",
        "\n",
        "\n",
        "\n",
        "\n",
        "\n",
        "\n"
      ],
      "metadata": {
        "id": "mHVERvMFk06D"
      }
    },
    {
      "cell_type": "markdown",
      "source": [
        "## ¿Por qué usar Qiskit?"
      ],
      "metadata": {
        "id": "Zc7n9e0hNm1I"
      }
    },
    {
      "cell_type": "markdown",
      "source": [
        "* Es uno de los frameworks mas completos y más utilizado.\n",
        "* Permite simular y visualizar circuitos de manera intuitiva. (En IBM quantum platform, existe el [**composer**](https://quantum.ibm.com/composer) que permite crear circuitos arrastrando puertas, literalmente).\n",
        "* Tiene acceso directo a hardware cuántico real.\n",
        "* Es modular: Puedes trabajar sólo con las partes que necesitas."
      ],
      "metadata": {
        "id": "2WYWYyoqN4lo"
      }
    },
    {
      "cell_type": "markdown",
      "source": [
        "## ¿Cuál es la arquitectura de Qiskit?\n"
      ],
      "metadata": {
        "id": "69vl47IENqPE"
      }
    },
    {
      "cell_type": "markdown",
      "source": [
        "Qiskit está dividido en varios módulos principales, entre ellos se encuentran:\n",
        "* ``qiskit-terra``: que corresponde al *core*. Define el circuito cuántico, las puertas, los registros cuánticos y clásicos, además de permitir construir, transformar y optimizar circuitos.\n",
        "* ``qiskit-aer``: Que corresponde a la parte de *simulación*. Permite simular circuitos de manera local, es decir, sin necesidad de hardware cuántico real.\n",
        "* ``qiskit-ibmq-provider``: Permite conectarse a **IBM Cloud** (ex IBM quantum platform), lo que permite ejecutar circuitos en computadores cuánticas reales. Con una cuenta gratuita se tiene un aproximado de 10 minutos de simulaciones al mes."
      ],
      "metadata": {
        "id": "Sy9WQa-gLLqr"
      }
    },
    {
      "cell_type": "markdown",
      "source": [
        "**Ejemplo**: En el siguiente bloque de código se crea un circuito cuántico que crea un estado en superposición (``qiskit-terra``). Luego se simula con ``sampler`` (``qiskit-aer``) y finalmente se visualizan los resultados en el histograma:"
      ],
      "metadata": {
        "id": "Hgj9O3A3alfx"
      }
    },
    {
      "cell_type": "code",
      "source": [
        "#Importamos los paquetes\n",
        "from qiskit import QuantumCircuit #Lo necesitamos para crea el circuito cuántico vacío\n",
        "from qiskit_aer.primitives import Sampler #El simulador\n",
        "from qiskit.visualization import plot_histogram #Para la visualización\n",
        "\n",
        "qc = QuantumCircuit(1, 1) #Crea el circuito cuántico vacío\n",
        "qc.h(0) #Aplicamos la puerta de hadamard al qubit 0\n",
        "qc.measure(0, 0) #Meidmos en el qubit 0 y guardamos el resultado en el bit clásico 0 (c)\n",
        "qc.draw('mpl') #Dibuja el circuito"
      ],
      "metadata": {
        "id": "w4vIGRj8Lzqr"
      },
      "execution_count": null,
      "outputs": []
    },
    {
      "cell_type": "code",
      "source": [
        "sampler = Sampler() #llamamos al simulador\n",
        "job = sampler.run(qc, shots=1024) #La cantidad de shots es la cantidad que se repite el experimento\n",
        "result = job.result() #Se obtienen los resultados del experimento\n",
        "counts = result.quasi_dists #Nos entrega la \"quasi\" distribución de probabilidad\n",
        "\n",
        "plot_histogram(counts)"
      ],
      "metadata": {
        "id": "BgU7usmYMCmT"
      },
      "execution_count": null,
      "outputs": []
    },
    {
      "cell_type": "markdown",
      "source": [
        "# Parte 2: Primeros Pasos"
      ],
      "metadata": {
        "id": "qpLNsVljj30A"
      }
    },
    {
      "cell_type": "markdown",
      "source": [
        "## ¿Qué se necesita para crear un circuito cuántico?"
      ],
      "metadata": {
        "id": "bdm1KtJANTfe"
      }
    },
    {
      "cell_type": "markdown",
      "source": [
        "Para crear un circuito cuántico necesitamos:\n",
        "\n",
        "\n",
        "1.   **Qubits**: Unidades de información cuántica.\n",
        "2.   **Bits clásicos**: Donde almacenaremos los resultados de las mediciones.\n",
        "3. **Un circuito cuántico**: La estructura que conecta todo.\n",
        "\n",
        "Creemos nuestro primer circuito cuántico:"
      ],
      "metadata": {
        "id": "LBxWH61TODha"
      }
    },
    {
      "cell_type": "markdown",
      "source": [
        "### 1. Importamos el módulo ``QuantumCircuit``"
      ],
      "metadata": {
        "id": "bizd75frPjvM"
      }
    },
    {
      "cell_type": "code",
      "source": [
        "from qiskit import QuantumCircuit"
      ],
      "metadata": {
        "id": "QrTShAmPQVcK"
      },
      "execution_count": null,
      "outputs": []
    },
    {
      "cell_type": "markdown",
      "source": [
        "### 2. Creamos el circuito"
      ],
      "metadata": {
        "id": "CZ64M3aCQYdH"
      }
    },
    {
      "cell_type": "markdown",
      "source": [
        "Hay más de una manera de crear el circuito cuántico, nos enfocaremos en la manera más sencilla.\n",
        "\n",
        "Para crear un circuito cuántico llamado $\\text{qc}$ con $n$ qubits y $m$ bits clásicos, escribiremos ``qc = QuantumCircuit(n,m)``. Notemos que la cantidad de qubits y bits clásicos a utilizar dependerán de lo que se quiera simular o trabajar."
      ],
      "metadata": {
        "id": "C7v5LTBaQcOo"
      }
    },
    {
      "cell_type": "markdown",
      "source": [
        "#### **Ejercicio 1**: Cree un circuito cuántico llamado **qc** con tres qubit y tres bits clásicos. Puede visualizar el circuito utilizando el comando ``qc.draw('mpl')``."
      ],
      "metadata": {
        "id": "A0A17rTDRNb0"
      }
    },
    {
      "cell_type": "code",
      "source": [
        "qc =     #Complete aquí\n",
        "qc.draw('mpl')"
      ],
      "metadata": {
        "id": "59TGfpntRj_Q"
      },
      "execution_count": null,
      "outputs": []
    },
    {
      "cell_type": "markdown",
      "source": [
        "### 3. Agregamos compuertas"
      ],
      "metadata": {
        "id": "9KmqQ2T5SVim"
      }
    },
    {
      "cell_type": "markdown",
      "source": [
        "A pesar que en qiskit existen puertas que se pueden aplicar a tres o más qubits, nos centraremos en las que son de 1 o 2.\n",
        "\n",
        "* **Puertas de 1 qubit**: Para agregar estas puertas se escribe ``qc.nombrepuerta(n)`` donde $n$ es el qubit al cuál le estamos aplicando la puerta.\n",
        "* **Puertas de 2 qubits** : En caso de los control-puerta, se escribe ``qc.controlpuerta(c,t)`` donde **c** representa al qubit de control y **t** al target.\n",
        "\n",
        "Las puertas más utilizadas son:"
      ],
      "metadata": {
        "id": "7YoaHF8HSZX9"
      }
    },
    {
      "cell_type": "markdown",
      "source": [
        "#### Puertas de 1 qubit"
      ],
      "metadata": {
        "id": "ijc41yH21EyO"
      }
    },
    {
      "cell_type": "markdown",
      "source": [
        "\n",
        "| Nombre     | Símbolo          | Matriz                                                 | En Qiskit                          | Descripción                                |\n",
        "|------------|------------------|--------------------------------------------------------|------------------------------------|--------------------------------------------|\n",
        "| Pauli-X    | `X`              | $ \\begin{bmatrix} 0 & 1 \\\\ 1 & 0 \\end{bmatrix} $        | `qc.x(0)`                          | Puerta NOT cuántica                        |\n",
        "| Pauli-Y    | `Y`              | $ \\begin{bmatrix} 0 & -i \\\\ i & 0 \\end{bmatrix} $       | `qc.y(0)`                          | Rotación con fase compleja                 |\n",
        "| Pauli-Z    | `Z`              | $ \\begin{bmatrix} 1 & 0 \\\\ 0 & -1 \\end{bmatrix} $       | `qc.z(0)`                          | Invierte fase de $|1\\rangle$               |\n",
        "| Hadamard   | `H`              | $\\frac{1}{\\sqrt{2}}\\begin{bmatrix} 1 & 1 \\\\ 1 & -1 \\end{bmatrix}$ | `qc.h(0)`                | Superposición                              |\n",
        "| Phase      | `S`              | $ \\begin{bmatrix} 1 & 0 \\\\ 0 & i \\end{bmatrix} $        | `qc.s(0)`                          | Fase de $ \\pi/2 $                          |\n",
        "| T $(\\pi/8)$   | `T`              | $ \\begin{bmatrix} 1 & 0 \\\\ 0 & e^{i\\pi/4} \\end{bmatrix} $ | `qc.t(0)`                      | Fase de $ \\pi/4 $                          |\n",
        "| $R_x$      | `rx(θ)`          | $ \\begin{bmatrix} \\cos(\\theta/2) & -i\\sin(\\theta/2) \\\\ -i\\sin(\\theta/2) & \\cos(\\theta/2) \\end{bmatrix} $ | `qc.rx(theta, 0)` | Rotación en eje X |\n",
        "| $R_y$      | `ry(θ)`          | $ \\begin{bmatrix} \\cos(\\theta/2) & -\\sin(\\theta/2) \\\\ \\sin(\\theta/2) & \\cos(\\theta/2) \\end{bmatrix} $   | `qc.ry(theta, 0)` | Rotación en eje Y |\n",
        "| $R_z$      | `rz(θ)`          | $ \\begin{bmatrix} e^{-i\\theta/2} & 0 \\\\ 0 & e^{i\\theta/2} \\end{bmatrix} $ | `qc.rz(theta, 0)`     | Rotación en eje Z (fase)                   |\n",
        "\n",
        "Notemos que **TODAS ESTÁN APLICADAS AL QUBIT 0**. **Los índices en qiskit comienzan del cero**."
      ],
      "metadata": {
        "id": "HnntWBun1Vbv"
      }
    },
    {
      "cell_type": "markdown",
      "source": [
        "#### Puertas de 2 qubits"
      ],
      "metadata": {
        "id": "o299bbfH1Nx5"
      }
    },
    {
      "cell_type": "markdown",
      "source": [
        "\n",
        "| Nombre        | Símbolo      | Matriz                                                                 | En Qiskit                        | Descripción                                      |\n",
        "|---------------|--------------|------------------------------------------------------------------------|----------------------------------|--------------------------------------------------|\n",
        "| CNOT          | `CX`         | $ \\begin{bmatrix} 1 & 0 & 0 & 0 \\\\ 0 & 1 & 0 & 0 \\\\ 0 & 0 & 0 & 1 \\\\ 0 & 0 & 1 & 0 \\end{bmatrix} $ | `qc.cx(ctrl, tgt)`               | Aplica $X$ si el control está en $|1\\rangle$     |\n",
        "| CZ            | `CZ`         | $ \\begin{bmatrix} 1 & 0 & 0 & 0 \\\\ 0 & 1 & 0 & 0 \\\\ 0 & 0 & 1 & 0 \\\\ 0 & 0 & 0 & -1 \\end{bmatrix} $ | `qc.cz(ctrl, tgt)`              | Invierte la fase si control está en $|1\\rangle$  |\n",
        "| SWAP          | `SWAP`       | $ \\begin{bmatrix} 1 & 0 & 0 & 0 \\\\ 0 & 0 & 1 & 0 \\\\ 0 & 1 & 0 & 0 \\\\ 0 & 0 & 0 & 1 \\end{bmatrix} $ | `qc.swap(q0, q1)`                | Intercambia los estados de dos qubits            |"
      ],
      "metadata": {
        "id": "kAmJNVm81RMs"
      }
    },
    {
      "cell_type": "markdown",
      "source": [
        "#### **Ejercicio 2**: Cree el siguiente circuito cuántico:"
      ],
      "metadata": {
        "id": "7-JJ6DERF0ub"
      }
    },
    {
      "cell_type": "markdown",
      "source": [
        "![imagen_2025-06-12_223511454.png](data:image/png;base64,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)"
      ],
      "metadata": {
        "id": "iJS0uLBv11q7"
      }
    },
    {
      "cell_type": "code",
      "source": [
        "qc2 = QuantumCircuit() #Agrege el numero de qubits y el numero de bits clásicos\n",
        "\n",
        "\n",
        "\n",
        "qc2.cz(0,1)#Dejar este puesto porque no conocen el dibujo\n",
        "qc2.swap(1,2)# Dejar este puesto porque no conocen el dibujo\n",
        "qc2.draw('mpl')"
      ],
      "metadata": {
        "id": "ChHGmN7eHWu0"
      },
      "execution_count": null,
      "outputs": []
    },
    {
      "cell_type": "markdown",
      "source": [
        "### 4. Agregamos mediciones"
      ],
      "metadata": {
        "id": "T2MzoQ1nJrqX"
      }
    },
    {
      "cell_type": "markdown",
      "source": [
        "Para agregar una medicion necesitamos tener un bit clásico donde almacenar el resultado de la medida. Para guardar la medida del qubit $m$ en el bit clasico $n$, pondremos:\n",
        "``qc.measure(m,n)``.\n",
        "De manera rápida, si tenemos una lista de índices de qubits, por ejemplo,  ``[0,1,2]`` y una lista de índices de bits clásicos  ``[3,4,5]``, podemos escribir  ``qc.measure([0,1,2],[3,4,5])``."
      ],
      "metadata": {
        "id": "UG4USmL8lVFO"
      }
    },
    {
      "cell_type": "markdown",
      "source": [
        "#### **Ejercicio 3**: Cree el siguiente circuito cuántico:"
      ],
      "metadata": {
        "id": "XmVaTqrInyHg"
      }
    },
    {
      "cell_type": "markdown",
      "source": [
        "![image.png](data:image/png;base64,iVBORw0KGgoAAAANSUhEUgAAATEAAADuCAIAAADeGKdxAAAeIklEQVR4Ae2dD1hUVd7HDzhACoi8kqIgOIGyvkqmBgtir1qWsTyG27Yaq/ta1mPPuyC+mayS8rJqIP7NEl1RUOTv9FdLrX0eNWt1yT8ltSVGGW07ZaTuKn9c/wzMvNWV2eO5M3fuMHfuPTN85+Fxfufv73e+v/PhzJ25jMSCBxSAAjwpQHgKBrFAAShgAZPYBFCALwXAJF/5QDRQAExiD0ABvhQAk3zlA9FAATCJPQAF+FIATPKVD0QDBcAk9gAU4EsBMMlXPhANFACT2ANQgC8FwCRf+UA0UABMYg9AAb4UAJN85QPRQAEwiT0ABfhSAEzylQ9EAwXAJPYAFOBLATDJVz4QDRQAk9gDUIAvBcAkX/lANFAATGIPQAG+FACTfOUD0UABMIk9AAX4UgBM8pUPRAMFwCT2ABTgSwEwyVc+EA0UAJPYA1CALwXAJF/5QDRQAExiD0ABvhQAk3zlA9FAATCJPQAF+FIATPKVD0QDBcAk9gAU4EsBMMlXPhANFACT2ANQgC8FwCRf+UA0UABMYg9AAb4UAJN85QPRQAEw2eP2gNlsNnHwMJvNPU56eQsGk/J08qJeJpPJwMHDZDJ5kahKLgVMKqmmR8wFJjlPE5jkPEHKhwcmlddU0RnBpKJyesJkYJLzLIFJzhOkfHhgUnlNFZ0RTCoqp/3JzGZzk7H1tQNfbX35zKaa09tf/ezA+9/84/I1+yPc1QIm3aWsQvOCSYWEtDNNZ6f5T0eNv/zfA/8xoZLEl4p/9A++lL2q7rOmS3YmUL4aTCqvqaIzgklF5aQmM5vNO/c0xvziJTGHNmvue/KtUw0XqAncZYJJdymr0LxgUiEhb53G+F176v/8ySZ7EpW6MWX/V/zh9Rsdt06mcAlMKiyo0tOBSaUVtVj+/MF3/cZXSLAn3ZSY8cbFS1eVD6trRjDZpQSnz2BS4cQcPnGud8JOaeocto765WvuwxJMKpxypacDk0oq2vDlpeCkXQ6Rk9MhadYbN250Khlc11yuMFldXb158+aNGze++OKLO3bscHiLXllZ2axZs2pqasQ9cW9dV0LYZzDJKtLtssnUmZCxxyFvJz89b2xuP/npeYc9V2w91e1gJAY6y2Rtbe2yZcseeOCBYcOG+fv7E+oxYMCAn//854899lhpaamYurKysjvuuIMQMmXKFDGWYNJejsCkPWWcrl9V+pFDzEh8qbG53WKxGJvbHXb2G7Pj48Z/OB2HowHymaysrHzssccGDx5MYWjb9Pf3nzRp0rp166xkWoEkhPTt23fz5s3WJsEAk/YS5TFMXrhwIScnJyYmJiAgIDIyMjs7u729fe7cuYSQTZs22VueavWXWq71SSh3iJlTTJL40l/87k+KL0Emk4WFhUOGDGEQHDhw4N133z1hwoTx48cPHz48ICCA7tCrV6+ZM2dWV1czQK5du5YB0mAwgEl7mfUMJuvr68PDwwkhgYGBY8aMGThwICEkLS0tOTmZEHLkyBF7y1OtfmPlJ3KAdJZJnztLm4ytyq7CIZO1tbWPPvqor6+vlbcRI0ZkZ2eXlZUxaFVXV69atSo1NbVPnz7WztHR0VFRUUKxb9++NoEEkxI59QAmL1y4EBkZSQh55plnWltvbtDVq1cTQnQ6nY+PT0tLi8QKVWgym81x015xB5MkvvT3G44ruwRpJmtra9PS0qyADR06tLCwkEFRXCwvL09PT/fx8bEOFF6y2gMSTErk1AOYzMjIIIRkZWUxyxg9ejQhRK/XM/XqFz//22WZQDp7TpL40pHTX1V2RdJMPvLII1aufvWrX1VVVYkJtFezdOlSnU4nDPfx8cnPz7fXE0xK5JR3JhsaGnx9fcPCwtra2phlCBeT06dPt9Y3NTVNmzYtKCioX79+v/3tby9evGhtcqtR+9ZZ9zHpO7qs/coNBeOXYDI/P98K5Lx58ySIEjfR15DCJAkJCbW1teKeQg2uJ+3llHcm8/LyCCELFiwQLyAzM5MQkp+fLzS1trZGR0ePGTNm7969L7/88tChQ5OSkjo73fIRHxNMzvrj7mOSxJf+pb6Z8ehK0R6T5eXlwoU6ISQjI8MeSzbraSCDgoICAwMFLOfPn2+zP85JiQzyzmRKSgohZM+ePeI1pKenE0Jef/11oWndunU6ne7rr78WinV1dYSQ3bt3iwcqXjMz55Bbmax966yCMdtj8uGHHxZAiouLE3+caA8tg8FAAym8qfP0008LUwUHB+/atcvmWJyT9nLKO5PCuzv19fXMAkwmU1hYGCHkyy+/FJom/fSgu91xxx1z586la6TtcePGRXTrcVvcM2ImhXsDjM3tzI+p48ej29TRydRbi+LbCfrp07oVl+1Ber1eDEllZWVISAghpFevXs8//7y4g70aMZBCz8TERAHLp556yuZYvV5vOz5vrB03bpz03qNbeWcyNDSUEFJXV0cHbbFYqqqqCCHBwcHWryQcMGBAZmYm3W3atGlJSUl0jbQdEREhbCOn/x3ylJhJ4d4AaY82W23cThByc387HZitAQEBAWJIsrKyhL7JycniVns19oA0GAwFBQXChHq93uZVJfPZpq1IvacuIiLCZq5tVvLO5IgRIwghxcXFdPTnzp0bNGgQISQlJcVa7+fnt3TpUmvRYrHMmTNn+PDhdI203e1zMnDYPDGTCp6T/aPvUfDwsHlOjh07ViBA+s1SGk4JIIVuwo11P3wosmHDBnqgYOOctLcbeWdy/vz5hJAhQ4Y0NjYKazhx4kRcXJyfnx8hhD4YXWfSnkYO60tf+0zMpL0a+ffWWWdQ9m9ExNeTtbW1wgvXwMBAm2eamCiHQBoMhhkzZgicZ2VliWfA9aS9fcU7k0ajsX///sLtAaNGjYqNjSWEpKamTp06lRCybds268Jcf+1qncpZo/7MRSs/Dg1nmRw61eBsPNL9xUxu2bJFgCc+Pl4Mj7hGDpAGg2HJkiXCtGlpaeJJwKS9NPHOpMViaWhoSEtLC/rpkZiYWFJSYjab9Xr9D3AeP/7ve1wmTpw4efJkep0xMTGPP/44XeMm+8aNztv/q8ohjUIHZ5l8PO89ZcMWM7l06VIJeBicZAJpMBi2bt0qTHvXXXcxk+CzEImcegCT4ujb2tp8fHx8fX2vXLlibV27dq2fn5/RaBRqjh07Rn9SYu3mJmPJxhNuYvL4X88rG7OYyby8vAEDBoSGhs6ePVsMD12zc+dO61WixL2swpCKioq+ffv2799/woQJ9CSCjXPSXlo9kkmBt7i4OHpVLS0tUVFRY8eO3bt37yuvvKLX6xMTE9W5Z8Bisfzt21afO218LZ0YVKfOyXEz91jfWKYX64otZlIMjL2ampqaSZMmObyX1d5wuh5M2kuiRzK5fft2QsiMGTOYVZ09ezYtLS0wMDAkJGTWrFnnzyt8wjDumOIT//dnMYHiGqeYfPPwzVsgGF+uFF1h0mAw1NTU/CCyxM3lNHgSNpi0l0SPZDI7O5sQUlBQYG9VmtRfarkWcV+NGEKmRj6Ts3MPu2MhLjIpgZlTTWDSXnI9ksnJkycTQvbt22dvVVrVv33EyBAoLsr87o/B99W46VvSwaRW20OmX49kUubaNOlWXHtazKGzNaEpFX91w7d+CIKASU02hnynYFK+VnJ7uojlgIlV9Wfc+FdmYFJuIjXqBybdIvyB97+JeqDW2eORxJc+8NTbf/+O/UtRZUMEk8rqqfhsYFJxSW9O2NJ2/akVR3vdVSaTzP73VG5/9TPFP/kQLw9MijXhqgZMujcd337f/octHw6WfD82MeONXW98fvWayb2hdM0OJruU4PQZTKqRmM5Oc+NXl2v2n1207nifn/7ngj4JO1eWnHrrz3///uK/1IiA8gEmKTF4NMGk2lkRPsOMuK9Gbcdd/sBklxKcPoNJtRMDJoVbC3DPgL2dBybtKeOuejAJJqX3FpiU1kf5VjAJJqV3FZiU1kf5VjAJJqV3FZiU1kf5VjAJJqV3FZiU1kf5Vs2ZNJvNpu4+CourcleXFBZXmUwm2u7GfCrcHaF88lSZEUyqIjPlRHMmqVicNguKqxYXlRQUV1ksFtp2eiIMsK8AmLSvjXtawKR7dPWeWcGk2rkEk2or7mn+wKTaGQOTaivuaf7ApNoZA5NqK+5p/sCk2hkDk2or7mn+wKTaGQOTaivuaf7ApNoZA5NqK+5p/sCk2hkDk2or7mn+wKTaGQOTaivuaf7ApNoZA5NqK+5p/sCk2hkDk2or7mn+wKTaGQOTaivuaf7ApNoZA5NqK+5p/sCk2hkDk2or7mn+wKTaGQOTaivuaf7ApNoZA5NqK+5p/sCk2hkDk2or7mn+wKTaGQOTLiruyneXdOM7SuwNcd93l4BJF3eI08PBpNOS3TrA67/HHUzemnD3l8CkixqDSRcFxHBWATDJKuJkGUw6KRi6O1IATDpSyEE7mHQgEJqdVQBMOqsY0x9MMoKg6KoCYNJFBcGkiwJiOKsAmGQVcbIMJp0UDN0dKQAmHSnkoB1MOhAIzc4qACadVYzpDyYZQVB0VQEw6aKCYNJFATGcVQBMsoo4WQaTTgqG7o4UAJOOFHLQrjKTxcXFNTU1wv+ZSf9rMpkcBNrdZtxb113lujsOTHZXuZvjusfkli1bFi5cOH369LFjx44YMeJnP/vZ6NGjU1NTMzMzN2zYUFtbS/NmtdesWRMcHDxlyhQxlmDSxTxyNBxMupgMp5isqalZtGjR6NGjieRj6NCh8+bNKy8vt9JoMBgEIIVxs2bNopsMBgOY/DGPFy5cyMnJiYmJCQgIiIyMzM7Obm9vnzt3LiFk06ZNLmZaneHnzl/pP6GSxJeG3VN59Zq7Xvy4by30/wNL2+7zKJ5ZPpPLly8fPHiwJIy3NAYFBWVlZQlnJg1kbGzsjh07wCSbi/r6+vDwcEJIYGDgmDFjBg4cSAhJS0tLTk4mhBw5coQdwFn5vZPnHll4sNddZSS+VPjpf09lzvrjX59r4yxSqXBoDmlbaozSbXKYrKysTEtL8/HxsTI3YMCA9PT0hQsXbtq0qaKiorKycuvWrbm5uY8++mhMTIy1GyHk7rvvzsvLCw4OFiptAolz8scTMjIykhDyzDPPtLa2CllevXo1IUSn0/n4+LS0tCideiXnK9hWb0WRMUJTKo58+J2Sztw5F80hbbvTJzu3QybLy8tHjRplxSwmJmbx4sXiC0L63CsoKEhMTLQOscJsD0gwacnIyCCEZGVlMfkRrhP0ej1Tz1VxY+UnDIdMMThp18eN/+AqZnvB0BzStr3+7qiXZrKiomLkyJECXX5+fr/5zW+qq6tp/CTsp59+OjAw0Erm0KFDxS9ZrcN79PVkQ0ODr69vWFhYWxv7Mk+4mJw+fbqQe6PRmJmZmZCQ4O/vTwgXbylf+OdV/7E7GAjFxfuefMsd21fxOWkOaVtxRxITSjN57733ClAFBgauWLHCipAcY82aNUFBQTSTEjz3aCbz8vIIIQsWLBDnKTMz8wf28vPzhabDhw+Hh4dPmzYtJSWFEyZXl30sJtBmzWdNl8QL5K2G5pC21YxTgsnc3FyBqICAgJUrV8rh0NqHflNHp9MJ88ycOdPagTF6NJMCYHv27BEnPj09nRDy+uuvC02dnZ2CkZ+fzwmTI9JftUmguPLZF06KF8hbDc0hbasZpz0my8vL+/fvL7D0xBNPMAhJF2kgY2Njly1bJlxS9urVa/369TbH9mgmhXd36uvrmcSbTKawsDBCyJdffsk0dY/JcePGRSj98Bm1WYyfzZrew+cr7Vz5+bKWrV1cVJK1bG1ERARtK+/J/ox6vd4mJE8++aQA5MiRI+3dA2BzIAOkcA350EMPCbPde++9Nkfp9Xr7MbIt48aNY7aoRJGLiy6J+CwWS2hoKCGkrq6O6VZVVUUICQ4OFn+rX/eYjIiIENKg5L//uckmgTYqI3/8oJXzx+9yixYXlfwut4gQQttqhh0QECCGpLa2NioqSghj1apV4g72amwCaTAYysvLe/fuTQjx9/cvKysTDw8ICJC/6oiICGb3ShQ9gMkRI0YQQoqLi+llnDt3btCgQYSQlJQUul6wu8ekO85J3YhCG/h1fURJNwXF/jf725W/Mn020raakdo8J5977jmBkNjYWDE/9mrsASn0nzp1qjDn448/Lp6hR5+T8+fPJ4QMGTKksbFRQO7EiRNxcXF+fn6EkMzMTKWYFM/jes3anX+lwZOwG7+67Lo7d89AX0PStrv90vPbvJ6cPXu2wI/8K0lpIA0GQ2FhoTBncnKymMkefT1pNBqFa3edTjdq1KjY2FhCSGpqqvBrbNu2bXTCBLt756R4HtdrLl66GjBupwSKQtP98/BZiFyxbTI5fvx4gZ+ioiIxP+Iah0AaDIbq6mrh9354eLh4hh7NpMViaWhoSEtLC/rpkZiYWFJSYjab9Xr9D3AeP35cnEx+mLRYLMW1p6WZDEmu+ORz3DMgTqPtGptMCu8F+Pn5VVVViflhauQAKQwZNmyYgLr45oGezqQ4OW1tbT4+Pr6+vleuXBG3csWkxWJZs8Pup5T976l8/6PvxUvgs4Z+vUrbakZrk8mQkBBCyO23387gJy7KB9JgMCQlJQlMFhcXM1OBSTbpx44dI4TExcUxDa/89Pj1r39NCBHskye5+Nyv7qPmjN+/4zfm3/f0DJhY9ewLJ79pbmeWwHOR5pC21YzZJpMrVqxYunRpXl4eQ464mJqaKmAmcS+rddSqVatyc3Pz8/MrKiqslYIBJtmkb9++nRAyY8YMpkGQm/53zpw5TB8Ni99f/NehY9/ufffro6ear13v0DCS7rmmOaTt7s3WvVE2mWSAkSjW1NRMnDhRDpASk+AedBu5y87OJoQUFBTYaEOV2xSgOaRttzm0MbGLTBoMhpqaGubPl6Xxs9mKc5LNzeTJk3/4U7d9+/axDSi7UwGaQ9p2p092bteZtMmYs5Vgkk0MypooQHNI22oGAybVVBu+eFeA5pC21YwbTKqpNnzxrgDNIW2rGTeYVFNt+OJdAZpD2lYzbjCpptrwxbsCNIe0rWbcYFJNteGLdwVoDmlbzbjBpJpqwxfvCtAc0raacYNJNdWGL94VoDmkbTXjBpNqqg1fvCtAc0jbasYNJtVUG754V4DmkLbVjBtMqqk2fPGuAM0hbasZN5hUU2344l0BmkPaVjNuMKmm2vDFuwI0h7StZtxms9nU3UdhcVXu6pLC4iqTyUTb3ZhP/G2JSongAd9bp9RSMY/rCtAc0rbrM6szAx0zbavjXaYXMClTKHT7UQF6H9O2p6hDx0zbXMUPJrlKB+/B0PuYtnmPuys+Omba7mrn4hlMcpEGTwmC3se0jfgVVABMKiim909Fc0jbnrJyOmba5ip+MMlVOngPht7HtM173F3x0THTdlc7F89gkos0eEoQ9D6mbcSvoAJgUkExvX8qmkPa9pSV0zHTNlfxg0mu0sF7MPQ+pm3e4+6Kj46ZtrvauXgGk1ykwVOCoPcxbSN+BRUAkwqK6f1T0RzStqesnI6ZtrmKH0xylQ7eg6H3MW3zHndXfHTMtN3VzsUzmOQiDZ4SBL2PaRvxK6gAmFRQTO+fiuaQtj1l5XTMtM1V/GCSq3TwHgy9j2mb97i74qNjpu2udi6ewSQXafCUIOh9TNuIX0EFwKSCYnr/VDSHtO0pK6djpm2u4geTXKWD92DofUzbvMfdFR8dM213tXPxDCa5SIOnBEHvY9pG/AoqACYVFNP7p6I5pG1PWTkdM21zFT+Y5CodvAdD72Pa5j3urvjomGm7q52LZzDJRRo8JQh6H9M24ldQATCpoJjePxXNIW17ysrpmGmbq/jBpON0rFmzJikpqV+/fiEhISkpKW+//bbjMV7ag97HtC1zufv37x89erS/v390dPT69etljlKwGx0zbct08d577z300ENRUVGEkJUrV8oc5Ww3MOlYsQcffHDbtm319fWNjY05OTm9evU6evSo42He2IPex7QtZ60nT57U6XRLlixpaGjYuXNnQEDAH//4RzkDFexDx0zbMl3s379/yZIlBoMhPDwcTMoUTY1u8fHxCxcuVMMTfz7ofUzbciLNyMhITk629ly0aFF0dLS1qI5Bx0zbznqPjo4Gk86K5q7+nZ2d0dHReXl57nLA07znL15qbDLSP8tf2LW4qGT5C7sam4y0LfT5vMnYaTbbW0FUVNTy5cutrQcPHiSEGI1Ga43ixrXrN+jgmZjF8Tc2GS+3tssJA0zKUUmlPitXrgwJCXHrTlJpJTLcnL94adm60sVFJTJ/3jz4F4lZ/fz8SkpKrB0+/fRTQsiJEyesNYobnWZzqWGfzOAXF5Ws2lJ99dp1OWGASTkqqdFn8+bNvXv3PnDggBrO+PBR9+GnMvf0+u0v37hhkohafSYtFsvl1vY/bCyXuYSzf/tWIn66CUzSamhmr127tk+fPj0KSIvFYjaby17a73BP567Z9k3zBencMK9dDx065O7XrkI8H53+wmH8i4tK9h6qk46fbgWTtBra2Hl5eUFBQe+++6427jX12iLjqHmn7pTDGDMyMsaPH2/tlpOTo9p7PDVvHJTGckPpyzdMUoe8NWzBAJOMIGoXFyxYcNttt+3evfu7rsfly5fVDkJTfx83nJXY05sr9nR0djoM8MSJEzqd7tlnnz1z5kx5efltt92m2mchV65eE95ltbmKZ9dsd3jIC6tra2ur/+kxaNCgzMzM+vr6L774wuHCne2AzycdK0ZEjzlz5jge5l09at88ZHND560vu/BPub+h9u3bd+edd/r7+0dFRal8z8DnTUab8S8uKpFzyAvJPHz4MLMXJk6cqHiewaQCkjb9/Zz02xsK+NB6iitXrxVurhJv62P1DVqHJtf/GweOiuPfUrmnU8YhL9eHEv3ApKsqtrZdWbqu9Lniysstba7Oxff4L776htnTO195233/hbjiYly/YVq37SV6CXnryy7+s0VxRy5OCCZdFNCy92Dd4qKSzRV7PGh3dnvNbx74i3VPL3+hvLXtSren0mSg8dz53DXbrEs4/tEZTcKQduo9THZ0dFRUVNx///1hYWH+/v5DhgyZOnXq9u3bOzo6pCVwpVU4JBcXlTQ2ufF+FFciVHbsjRum9dtvHjWffNak7OTqzHbw6IcCk+WvcnrIewmTLS0tkydPFq6/Bw8enJCQEBER4ePjQwi5dOmS+5Ldow5JQUbjdz8eNS/tO+w+Vd06c0dnZ/Gu3Ste2NXazukh7yVMPvLII4SQyMjId955x5rR5ubmgoKC9nZZdzBaLJYXy18rKK6S//PcpkrhN+7yF3bJH+UFPfOf3/ncpkrPXciKFyv+sLFczfhfLH/Nui0dGt7A5AcffEAI0el0n3zyicMFS3SQ+AjLegUCAwp0Q4GC4iqJjcc0eQOTy5YtI4Skp6cza3O26NQ52WMPSTWPF6/x1ePOyYcffpgQUlRU5CyErvTvgVeSrsiFsfIV8IZzcsqUKYQQ12/Ukn9O4pD0mhNMnYXgnJT/K+mWnrie7MaVEobIUaDHXU/m5eWpeT2JQ1Kds8WbvPS4c/LUqVOEED8/v9OnT99y8LmngCtJ9+iKWW8q4A3XkxaLZcaMGYSQqKgo+k8cm5ubCwsL5X8+KWdT9LQbd+Rogj7KKuAlTLa0tEyaNEm4jyciIiIhISEyMtId9/HgkFR2/2E2sQJewqTFYuno6CgrK5s0aVJoaKjwF3oPPvhgWVmZsve7Hn6/Pv/5nT3k7lbxdkGNCgp4D5MqiCW4uHrtek/4ExDV9IQjRgEwyQiCIhTQWAEwqXEC4B4KMAqASUYQFKGAxgqASY0TAPdQgFEATDKCoAgFNFYATGqcALiHAowCYJIRBEUooLECYFLjBMA9FGAUAJOMIChCAY0VAJMaJwDuoQCjAJhkBEERCmisAJjUOAFwDwUYBcAkIwiKUEBjBcCkxgmAeyjAKAAmGUFQhAIaKwAmNU4A3EMBRgEwyQiCIhTQWAEwqXEC4B4KMAqASUYQFKGAxgqASY0TAPdQgFEATDKCoAgFNFYATGqcALiHAowCYJIRBEUooLECYFLjBMA9FGAUAJOMIChCAY0VAJMaJwDuoQCjAJhkBEERCmisAJjUOAFwDwUYBcAkIwiKUEBjBcCkxgmAeyjAKAAmGUFQhAIaKwAmNU4A3EMBRgEwyQiCIhTQWAEwqXEC4B4KMAqASUYQFKGAxgqASY0TAPdQgFEATDKCoAgFNFYATGqcALiHAowCYJIRBEUooLECYFLjBMA9FGAU+H+e++vu2IkszwAAAABJRU5ErkJggg==)"
      ],
      "metadata": {
        "id": "VJqueeDo2bxU"
      }
    },
    {
      "cell_type": "code",
      "source": [
        "qc3 =\n",
        "\n",
        "\n",
        "\n",
        "qc3.draw('mpl')"
      ],
      "metadata": {
        "id": "Zc65DHLEmA97"
      },
      "execution_count": null,
      "outputs": []
    },
    {
      "cell_type": "markdown",
      "source": [
        "#### **Ejercicio 4**: Cree el siguiente circuito cuántico:"
      ],
      "metadata": {
        "id": "ikEhjn9hoCI5"
      }
    },
    {
      "cell_type": "markdown",
      "source": [
        "![image.png](data:image/png;base64,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)"
      ],
      "metadata": {
        "id": "giU4fTGq2jPt"
      }
    },
    {
      "cell_type": "code",
      "source": [
        "qc4 =\n",
        "\n",
        "\n",
        "qc4.draw('mpl')"
      ],
      "metadata": {
        "id": "V_HSC_MglRKK"
      },
      "execution_count": null,
      "outputs": []
    },
    {
      "cell_type": "markdown",
      "source": [
        "### 5. Puertas cuánticas avanzadas"
      ],
      "metadata": {
        "id": "VxXtnsNH4pqV"
      }
    },
    {
      "cell_type": "markdown",
      "source": [
        "Además de las puertas básicas de uno y dos qubits, Qiskit también incluye puertas y operaciones más complejas que resultan esenciales para algoritmos cuánticos avanzados. Un ejemplo fundamental es la Transformada de Fourier Cuántica (QFT), que juega un papel clave en algoritmos como Shor y Quantum Phase Estimation (QPE).\n",
        "\n",
        "![image.png](data:image/png;base64,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)\n",
        "\n",
        "(Algoritmo de Shor implementado para $N=15$)\n",
        "\n",
        "Estas operaciones suelen involucrar múltiples qubits y fases controladas, y Qiskit permite utilizarlas mediante funciones predefinidas, sin necesidad de construirlas manualmente desde cero. Aunque no entraremos en detalle, puedes revisar un listado de puertas  disponibles en [esta documentación.](https://docs.quantum.ibm.com/api/qiskit/circuit_library).\n"
      ],
      "metadata": {
        "id": "N9Gpriz3saAy"
      }
    },
    {
      "cell_type": "markdown",
      "source": [
        "Hemos construido nuestros primeros circuitos, aplicado puertas y realizado mediciones. Ahora pasaremos a **simular y visualizar** el comportamiento de estos circuitos, para ver cómo se comportan y qué resultados esperaríamos en un computador cuántico real."
      ],
      "metadata": {
        "id": "nWMle9ykuKGz"
      }
    },
    {
      "cell_type": "markdown",
      "source": [
        "# Parte 3: Simulación"
      ],
      "metadata": {
        "id": "lHq4krO1kAyM"
      }
    },
    {
      "cell_type": "markdown",
      "source": [
        "Una vez que hemos construido un circuito cuántico, el siguiente paso es **simular su ejecución** para obtener resultados. Qiskit nos ofrece varias formas de simular, dependiendo de lo que queramos observar. Por ejemplo:\n",
        "\n",
        "* **Resultados post medición**:  En este caso utilizamos ``AerSimulator`` o ``Sampler``.\n",
        "* **Valores de expectación**: En este caso utilizamos ``Estimator``.\n",
        "\n",
        "En este taller nos centraremos en simulación de **resultados post medición**, pero si quieres conocer cómo funcionan las otras funciones puedes revisar esta [documentación](https://docs.quantum.ibm.com/guides/primitives), o la [siguiente](https://docs.quantum.ibm.com/api/qiskit/primitives) en caso que quieras ver las de la última versión de qiskit.\n"
      ],
      "metadata": {
        "id": "vcfNeZhQNnMY"
      }
    },
    {
      "cell_type": "markdown",
      "source": [
        "### Resultados post medición"
      ],
      "metadata": {
        "id": "Vecl4N-bPFg3"
      }
    },
    {
      "cell_type": "markdown",
      "source": [
        "En este tipo de simulación, lo que se hace es ejecutar el circuito muchas veces (esto se conoce como **\"shots\"**) incluyendo las mediciones al final. El objetivo es **recolectar estadísticas sobre los resultados posibles**, como en un experimento físico real.\n",
        "\n",
        "Dependiendo del método que se utilice:\n",
        "\n",
        "- Con `AerSimulator`, obtendremos un **diccionario de frecuencias** (por ejemplo, `{'00': 500, '11': 524}`).\n",
        "- Con `Sampler`, obtendremos una **quasi distribución de probabilidad** (`QuasiDistribution`), que estima directamente la probabilidad de cada resultado.\n",
        "\n",
        "Ambas herramientas repiten internamente el circuito muchas veces, aunque su forma de presentar los resultados es diferente.\n",
        "\n",
        "**Nota:** En versiones anteriores de Qiskit, el simulador más común era `AerSimulator` y, aunque aún es funcional y útil para fines didácticos, en Qiskit 1.0+ (actualmente en la versión estable 2.02) se promueve el uso del nuevo flujo basado en `Sampler` y `Estimator`, ya que unifican la forma de simular y ejecutar circuitos tanto en software como en hardware real.\n",
        "\n",
        "En este taller usaremos ambos enfoques para ver la diferencia. Simularemos el ``qc3`` y ``qc4`` de los ejercicios 3 y 4 con ambos métodos."
      ],
      "metadata": {
        "id": "bfNNsB3_PKCG"
      }
    },
    {
      "cell_type": "markdown",
      "source": [
        "#### ``AerSimulator``"
      ],
      "metadata": {
        "id": "6sezm8oob5PY"
      }
    },
    {
      "cell_type": "markdown",
      "source": [
        "Primero importamos el simulador:"
      ],
      "metadata": {
        "id": "CIjo-4NEb-xf"
      }
    },
    {
      "cell_type": "code",
      "source": [
        "from qiskit_aer import AerSimulator"
      ],
      "metadata": {
        "id": "VYzCnR8V50zx"
      },
      "execution_count": null,
      "outputs": []
    },
    {
      "cell_type": "markdown",
      "source": [
        "Ahora, llamamos el simulador con ``NombreQueLeQuierasDar = AerSimulator()`` y luego corremos el simulador con ``NombreQueLeQuierasDar.run(NombreDelCircuito, shots=NroDeShots)``"
      ],
      "metadata": {
        "id": "h8VcPYEJcBli"
      }
    },
    {
      "cell_type": "code",
      "source": [
        "sim = AerSimulator()\n",
        "job = sim.run(qc3,shots=1024) #Nota: no es necesario que se llame job, uno puede llamarlo como quiera, pero \"job\" es lo usual."
      ],
      "metadata": {
        "id": "llaN1cbkc8BK"
      },
      "execution_count": null,
      "outputs": []
    },
    {
      "cell_type": "markdown",
      "source": [
        "Ahora, para obtener los resultados utilizamos ``job.result()``"
      ],
      "metadata": {
        "id": "Etb7ui3CdLHt"
      }
    },
    {
      "cell_type": "code",
      "source": [
        "result = job.result() #Nota2: si utilizaron otro nombre en vez de job en el paso anterior, aquí deben utilizar ese nombre."
      ],
      "metadata": {
        "id": "5WcP-lA36Xis"
      },
      "execution_count": null,
      "outputs": []
    },
    {
      "cell_type": "markdown",
      "source": [
        "Ahora, en el caso de ``AerSimulator()``, lo que obtenemos es la frecuencia de cada resultado, en este caso, para obtener esa frecuencia utilizamos ``result.get_counts()``, y luego para graficar utlizamos ``plot_histogram(counts)``:"
      ],
      "metadata": {
        "id": "VxE0bey1ePtR"
      }
    },
    {
      "cell_type": "code",
      "source": [
        "counts = result.get_counts()\n",
        "plot_histogram(counts)"
      ],
      "metadata": {
        "id": "hd1eIgn9ezCp"
      },
      "execution_count": null,
      "outputs": []
    },
    {
      "cell_type": "markdown",
      "source": [
        "Se obtubo que los 1024 shots dieron como resultado $|00\\rangle$, lo cual tiene sentido porque el circuito era:\n",
        "![image.png](data:image/png;base64,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)\n",
        "\n",
        "Y **qiskit siempre inicia los circuitos con los qubits en 0**."
      ],
      "metadata": {
        "id": "67PeSZbEfczy"
      }
    },
    {
      "cell_type": "markdown",
      "source": [
        "##### **Ejercicio 5**: Realice la simulación y visualización de resultados para ``qc4``."
      ],
      "metadata": {
        "id": "1Lf5u4GEgInj"
      }
    },
    {
      "cell_type": "code",
      "source": [
        "sim =\n",
        "job2 = sim.run(qc4,shots=1024)\n",
        "result2 =\n",
        "counts2 =\n"
      ],
      "metadata": {
        "id": "rLlQUR_FgeVE"
      },
      "execution_count": null,
      "outputs": []
    },
    {
      "cell_type": "markdown",
      "source": [
        "Si te fijas, se obtuvieron los mismos resultados, lo cual tiene sentido porque, como demostramos en práctica, **¡ambos circuitos son equivalentes!**."
      ],
      "metadata": {
        "id": "VUW2FDqzg2hN"
      }
    },
    {
      "cell_type": "markdown",
      "source": [
        "#### ``Sampler``"
      ],
      "metadata": {
        "id": "OG56AZ2mgbZp"
      }
    },
    {
      "cell_type": "markdown",
      "source": [
        "Ahora hagamos la simulación de ``qc3`` con ``Sampler``. En primer lugar, importamos el simulador:"
      ],
      "metadata": {
        "id": "OxunFni4hQCS"
      }
    },
    {
      "cell_type": "code",
      "source": [
        "from qiskit_aer.primitives import Sampler"
      ],
      "metadata": {
        "id": "Qjl_yiAdhrlj"
      },
      "execution_count": null,
      "outputs": []
    },
    {
      "cell_type": "markdown",
      "source": [
        "Ahora, al igual que con AerRimulator, llamamos el simulador con ``NombreQueLeQuierasDar = Sampler()`` y luego corremos el simulador con ``NombreQueLeQuierasDar.run(NombreDelCircuito, shots=NroDeShots)``"
      ],
      "metadata": {
        "id": "PQxiuQxuhsm3"
      }
    },
    {
      "cell_type": "code",
      "source": [
        "sampler = Sampler()\n",
        "job = sampler.run(qc3, shots=1024)"
      ],
      "metadata": {
        "id": "hszF06HNh74K"
      },
      "execution_count": null,
      "outputs": []
    },
    {
      "cell_type": "markdown",
      "source": [
        "Para obtener los resultados, también utlizamos ``result = job.result()``:"
      ],
      "metadata": {
        "id": "fFZN4m3fh-Jm"
      }
    },
    {
      "cell_type": "code",
      "source": [
        "result = job.result()"
      ],
      "metadata": {
        "id": "GmreBaxliJM9"
      },
      "execution_count": null,
      "outputs": []
    },
    {
      "cell_type": "markdown",
      "source": [
        "La diferencia viene ahora, ``Sampler`` lo que entrega son probabilidades (o si prefieres verlo asi, frecuencia relativa), por lo que para obtener estas probabilidades debemos utilizar ``result.quasi_dists``. Para graficar también se utiliza ``plot_histograme(counts)``."
      ],
      "metadata": {
        "id": "5Aj-vNi1iKl6"
      }
    },
    {
      "cell_type": "code",
      "source": [
        "counts = result.quasi_dists\n",
        "plot_histogram(counts)"
      ],
      "metadata": {
        "id": "TNawMcdgi5lU"
      },
      "execution_count": null,
      "outputs": []
    },
    {
      "cell_type": "markdown",
      "source": [
        "**Nota:** Si intentan usar ``.get_counts()``  con ``Sampler`` les lanzará error, lo mismo que si intentan utilizar ``quasi_dists`` con ``AerSimulator``."
      ],
      "metadata": {
        "id": "8bCbsy53jN2f"
      }
    },
    {
      "cell_type": "markdown",
      "source": [
        "##### **Ejercicio 6**: Realice la simulación y visualización de resultados para ``qc4``."
      ],
      "metadata": {
        "id": "KoaBhUVTjSdV"
      }
    },
    {
      "cell_type": "code",
      "source": [
        "sampler =\n",
        "\n",
        "\n",
        "\n",
        "\n"
      ],
      "metadata": {
        "id": "uUM_I6iVjb8Y"
      },
      "execution_count": null,
      "outputs": []
    },
    {
      "cell_type": "markdown",
      "source": [
        "Ahora pondremos en práctica lo aprendido."
      ],
      "metadata": {
        "id": "LuDBFhxAkYiU"
      }
    },
    {
      "cell_type": "markdown",
      "source": [
        "# Parte 4: Creando un estado de Bell"
      ],
      "metadata": {
        "id": "aYwUvgiSkEab"
      }
    },
    {
      "cell_type": "markdown",
      "source": [
        "Recordemos que los estados de Bell son cuatro estados de dos qubits maximalmente entrelazados:\n",
        "* $|\\beta_{00}\\rangle=\\frac{1}{\\sqrt{2}}(|00\\rangle+|11\\rangle)$\n",
        "* $|\\beta_{01}\\rangle=\\frac{1}{\\sqrt{2}}(|01\\rangle+|10\\rangle)$\n",
        "* $|\\beta_{10}\\rangle=\\frac{1}{\\sqrt{2}}(|00\\rangle-|11\\rangle)$\n",
        "* $|\\beta_{11}\\rangle=\\frac{1}{\\sqrt{2}}(|01\\rangle-|10\\rangle)$"
      ],
      "metadata": {
        "id": "Hr8m5u3skIcU"
      }
    },
    {
      "cell_type": "markdown",
      "source": [
        "#### **Ejercicio 7**: Cree un circuito que nos entregue $|\\beta_{00}\\rangle$ y que contenga al final las mediciones en cada uno de los qubits."
      ],
      "metadata": {
        "id": "g41stS56na4V"
      }
    },
    {
      "cell_type": "markdown",
      "source": [
        "**Hint**: No olvide que qiskit comienza con cada qubit en $|0\\rangle$. Además recuerde que para crear los estados de Bell, primero agregabamos superposición y luego entrelazamiento."
      ],
      "metadata": {
        "id": "Kt_5ewzmnyC2"
      }
    },
    {
      "cell_type": "code",
      "source": [
        "qc5 =\n",
        "\n",
        "\n",
        "\n",
        "qc5.draw('mpl')"
      ],
      "metadata": {
        "id": "zgXN1IspaxuX"
      },
      "execution_count": null,
      "outputs": []
    },
    {
      "cell_type": "markdown",
      "source": [
        "#### **Ejercicio 8**: Haga la simulación con ``AerSimulator`` y haga el histograma de los resultados."
      ],
      "metadata": {
        "id": "igdXM5OroaHf"
      }
    },
    {
      "cell_type": "code",
      "source": [
        "sim = AerSimulator()\n",
        "job = sim.run(qc5, shots=1024)\n",
        "result = job.result()\n",
        "counts = result.get_counts()\n",
        "plot_histogram(counts)"
      ],
      "metadata": {
        "id": "syqJW9I-a6tQ"
      },
      "execution_count": null,
      "outputs": []
    },
    {
      "cell_type": "markdown",
      "source": [
        "#### **Ejercicio 9**: Haga la simulación con ``Sampler`` y haga el histograma."
      ],
      "metadata": {
        "id": "_Kae-GTGoo8P"
      }
    },
    {
      "cell_type": "code",
      "source": [
        "sampler = Sampler()\n",
        "job = sampler.run(qc5, shots=1024)\n",
        "result = job.result()\n",
        "counts = result.quasi_dists\n",
        "plot_histogram(counts)"
      ],
      "metadata": {
        "id": "x815LWGqox8f"
      },
      "execution_count": null,
      "outputs": []
    },
    {
      "cell_type": "markdown",
      "source": [
        "# **Desafío** (Por si lo quieren trabajar en la casa)"
      ],
      "metadata": {
        "id": "id00Dxq3o9_j"
      }
    },
    {
      "cell_type": "markdown",
      "source": [
        "Haga los circuitos que generan los otros tres estados de Bell."
      ],
      "metadata": {
        "id": "8Pmrw_pMpDTF"
      }
    },
    {
      "cell_type": "code",
      "source": [],
      "metadata": {
        "id": "GNMqTFPXpiYN"
      },
      "execution_count": null,
      "outputs": []
    },
    {
      "cell_type": "markdown",
      "source": [
        "# Referencias"
      ],
      "metadata": {
        "id": "A6aehrq2tv4_"
      }
    },
    {
      "cell_type": "markdown",
      "source": [
        "\n",
        "\n",
        "1.   [Taller 1: Introducción qiskit, ECC 2025 MIRO. Constanza Vargas, Barbara Candia, Luciano Pereira.](https://github.com/mauricio-alexis-casanova-valdenegro/ECC_2025_testing/blob/main/talleres/taller_1_Introducción_Qiskit_Soluciones.ipynb)\n",
        "2.  [Qiskit 101 & 102](https://learning.quantum.ibm.com/course/qiskit-101-and-102).\n",
        "3. [Get started: Hello world](https://docs.quantum.ibm.com/guides/hello-world)\n",
        "\n"
      ],
      "metadata": {
        "id": "1b1zjkv1uGRC"
      }
    },
    {
      "cell_type": "markdown",
      "source": [
        "# Contacto"
      ],
      "metadata": {
        "id": "j854KO8CgvFN"
      }
    },
    {
      "cell_type": "markdown",
      "source": [
        "María Paz Barría <br>\n",
        "Estudiante Doctorado en Ciencias Físicas <br>\n",
        "Universidad de Concepción<br>\n",
        "marbarria@udec.cl"
      ],
      "metadata": {
        "id": "W1J5uLMgjSeh"
      }
    }
  ]
}